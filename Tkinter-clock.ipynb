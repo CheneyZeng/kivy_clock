{
 "cells": [
  {
   "cell_type": "code",
   "execution_count": null,
   "metadata": {
    "nbpresent": {
     "id": "177c1180-517d-4768-a801-a84310282cf7"
    }
   },
   "outputs": [],
   "source": [
    "%%html\n",
    "<style>\n",
    "table {float:left}\n",
    "</style>"
   ]
  },
  {
   "cell_type": "markdown",
   "metadata": {},
   "source": [
    "![udlogo.png](images/logo1.png)"
   ]
  },
  {
   "cell_type": "markdown",
   "metadata": {},
   "source": [
    "![logo3.png](images/logo3.png)"
   ]
  },
  {
   "cell_type": "markdown",
   "metadata": {},
   "source": [
    "版本号：1.1\n",
    "\n",
    "作者：Rita\n",
    "\n",
    "更新日期：2019.01.03"
   ]
  },
  {
   "cell_type": "markdown",
   "metadata": {},
   "source": [
    "# 课程架构\n",
    "<div class=\"alert alert-info\">请老师先给同学安装小闹钟的环境</div>\n",
    "\n",
    "我将一节课的结构分为以下的不同步骤，你可以使用下面的链接来直接定位不同的部分\n",
    "* [Step 0](#step1): 课程主题\n",
    "\n",
    "* [Step 1](#step1): 如何通过python打开一个网站\n",
    "    * [Step 1.1](#step1.1): webbrowser\n",
    "    * [Step 1.2](#step1.2): list列表\n",
    "       \n",
    "* [Step 2](#step1): 实现闹钟倒计时\n",
    "    * [Step 2.1](#step2.1): time\n",
    "    \n",
    "* [Step 3](#step3): 阅读文件列表\n",
    "    * [Step 3.1](#step3.1): 理解绝对路径与相对路径\n",
    "    \n",
    "* [Step 4](#step4): 独立完整实现闹钟流程\n",
    "    \n",
    "* [Step 5](#step5): 课程提交方式介绍\n",
    "\n",
    "* [Step 6](#step6): 作业内容与提交时间\n",
    "\n",
    "* [Step 7](#step7): 导师联系与答疑"
   ]
  },
  {
   "cell_type": "markdown",
   "metadata": {
    "nbpresent": {
     "id": "756dac95-6fef-4572-8213-744f6f1f68c2"
    }
   },
   "source": [
    "# 你的第一个项目\n",
    "\n",
    "这是你的第一个项目，你将要在这个项目中使用一个定时小闹钟，在繁忙的学习生活中提醒自己“生活不止眼前的苟且，还有诗和远方”。\n",
    "\n",
    "给自己倒杯水，放首最喜欢的音乐，休息一下之后，继续为远方奋斗。\n",
    "\n",
    "在这个项目中，你需要使用到课程中教授的string函数类，variables变量，并自学list列表。\n",
    "\n",
    "运行下面的*代码*可以看到项目效果～～"
   ]
  },
  {
   "cell_type": "code",
   "execution_count": 1,
   "metadata": {},
   "outputs": [
    {
     "data": {
      "text/html": [
       "<iframe width=\"600\" height=\"400\" src=\"https://s3.cn-north-1.amazonaws.com.cn/static-documents/nd101/IPND/example.mp4\" frameborder=\"0\" allowfullscreen></iframe>"
      ],
      "text/plain": [
       "<IPython.core.display.HTML object>"
      ]
     },
     "execution_count": 1,
     "metadata": {},
     "output_type": "execute_result"
    }
   ],
   "source": [
    "from IPython.display import HTML\n",
    "\n",
    "HTML('<iframe width=\"600\" height=\"400\" src=\"https://s3.cn-north-1.amazonaws.com.cn/static-documents/nd101/IPND/example.mp4\" frameborder=\"0\" allowfullscreen></iframe>')"
   ]
  },
  {
   "cell_type": "markdown",
   "metadata": {
    "nbpresent": {
     "id": "ac62402a-49f9-41de-aade-c2499db2ab44"
    }
   },
   "source": [
    "<a id='step1'></a>\n",
    "# 1. 第一步：如何通过python打开一个网站\n",
    "课程中介绍了module的用法。Module如同一个*工具箱*，我们可以从里面找到各种各样的工具🔧来完成我们交给python的任务，帮助我们更快、更好地完成我们的工作。\n",
    "\n",
    "第一步中，python提供了一个Module，叫webbrowser。使用这个webbrowser，python可以直接打开一个指定网址的网站。网址，也叫URL。\n",
    "\n",
    "让我们开始吧。在第一步中，我们会在comments里面写明白大家需要做的步骤，这是良好编程的一个习惯。你会看到**TODO**来提醒你需要编程的地方。\n",
    "\n",
    "大家之后编程的时候，也可以写明白自己的每一个步骤，培养自己的编程思维，完善自己的编程规范。"
   ]
  },
  {
   "cell_type": "code",
   "execution_count": null,
   "metadata": {
    "nbpresent": {
     "id": "6c75f858-91ba-41ba-a46b-faa2d35be1af"
    }
   },
   "outputs": [],
   "source": [
    "# 导入webbrowser的模块\n",
    "import webbrowser\n",
    "\n",
    "# 打开一个网址\n",
    "webbrowser.open('https://www.bilibili.com/video/av27696571/')\n",
    "\n",
    "# 同时按住Ctrl + Enter，看看发生了什么"
   ]
  },
  {
   "cell_type": "markdown",
   "metadata": {
    "nbpresent": {
     "id": "fc2e9a91-c639-42e8-88c1-472177d92d79"
    }
   },
   "source": [
    "#### 恭喜你！你已经使用python打开了你的第一个网址！\n",
    "我们来看看👆的代码做了什么。\n",
    "\n",
    "* python中导入了一个webbrowser模块，并使用webbrowser的open函数来打开一个网站。\n",
    "* 网站的传入方式使用了string类，因此我们将网址放在了**单引号**中间。\n",
    "\n",
    "**上节英文单词整理**\n",
    "\n",
    "|引文        | 意义  |          \n",
    "|:------------- |:-------------|\n",
    "|import      | 导入 |\n",
    "|webbrowser     | 网页浏览器 |     \n",
    "|open | 打开      |"
   ]
  },
  {
   "cell_type": "markdown",
   "metadata": {
    "nbpresent": {
     "id": "a9e089c1-f046-4744-9d99-45e78db52544"
    }
   },
   "source": [
    "### 接下来就来考考你了\n",
    "\n",
    "请完成：\n",
    "1. 将你平时喜欢的网址赋值给 var 变量；\n",
    "2. 使用webbrowser的open函数来打开 var；\n",
    "3. 建立一个list列表来存储至少5个你喜欢的网址；\n"
   ]
  },
  {
   "cell_type": "markdown",
   "metadata": {},
   "source": [
    "\n",
    "> # 列表\n",
    "\n",
    "> 1. 什么是列表\n",
    "\n",
    "> 列表是一个数学概念的计算机表达形式，简单来说，列表就是一个元素的集合。\n",
    "\n",
    "> 他在计算机中的表现形式 为\n",
    "\n",
    "> ```Python\n",
    "> lis = [0,1,2,3,4]\n",
    "> lis_string = [\"Hello\",\"My\",\"Friend\"]\n",
    "> ```\n",
    "> 用中括号扩起来的，元素被逗号隔开的 —— 就是列表本表了！\n",
    "\n",
    "> 列表的元素可以是数字，字符串或者任何可以赋值给变量的东东～\n",
    "\n",
    "> 2. 列表索引\n",
    "> 列表中的元素索引和字符串的索引方式一样，\n",
    "\n",
    "> ```Python\n",
    "> lis[0] = 0\n",
    "> lis[1] = 1\n",
    "> ```\n",
    "\n",
    "> 👇，你自己来试试吧～\n"
   ]
  },
  {
   "cell_type": "code",
   "execution_count": null,
   "metadata": {
    "nbpresent": {
     "id": "82797390-2263-47c7-b70f-a1652982d3f7"
    }
   },
   "outputs": [],
   "source": [
    "#########################\n",
    "# TODO：选择你最喜欢的网址；\n",
    "#########################\n",
    "var = \n",
    "\n",
    "\n",
    "##################################\n",
    "# TODO：使用webbrowser来打开这个网址；\n",
    "##################################\n",
    "\n",
    "\n",
    "##################################################################\n",
    "# TODO：构建一个list列表来存储至少5个网址，并使用webbrowser来打开第2个网址；\n",
    "##################################################################\n",
    "\n"
   ]
  },
  {
   "cell_type": "markdown",
   "metadata": {
    "nbpresent": {
     "id": "08b02d23-7524-41e0-9ed9-61295a800711"
    }
   },
   "source": [
    "<a id='step2'></a>\n",
    "# 2. 第二步：实现闹钟的倒计时\n",
    "\n",
    "倒计时的功能中，我们需要使用 time 模块中的sleep函数。\n",
    "\n",
    "请参照上一步的实现方式：\n",
    "1. 导入 time 模块；\n",
    "2. 使用time中的sleep函数，并设定一个参数；\n",
    "    * time.sleep(t) ----- t 表示 python 休眠的秒数；\n",
    "3. 输出“时间到啦！” ------ print(\"时间到啦！\")"
   ]
  },
  {
   "cell_type": "code",
   "execution_count": null,
   "metadata": {
    "nbpresent": {
     "id": "fafb3eae-0ee8-4ac1-988a-5847bfc50a8b"
    }
   },
   "outputs": [],
   "source": [
    "###############################\n",
    "# TODO：导入 time 模块\n",
    "# TODO：让你的 python 休眠 2 分钟\n",
    "###############################\n",
    "\n"
   ]
  },
  {
   "cell_type": "markdown",
   "metadata": {},
   "source": [
    "<a id='step3'></a>\n",
    "# 3. 第三步：阅读文件列表\n",
    "\n",
    "我们在一个文件夹，存放了 优达菌 周游世界后拍摄的图片。\n",
    "\n",
    "现在需要你使用所学的知识来实现我们的文件列表，帮助我们的程序来获得一些有趣的图片。\n",
    "\n",
    "第一步中，网站的获取方式是 网址，那在这里，我们需要知道。文件的获取方式，是文件在电脑中的存储路径，也可以理解为位置。"
   ]
  },
  {
   "cell_type": "code",
   "execution_count": null,
   "metadata": {},
   "outputs": [],
   "source": [
    "################################\n",
    "# TODO：我们建立一个list列表，并在\n",
    "# 里面储存所有的图片名字；\n",
    "################################\n",
    "\n"
   ]
  },
  {
   "cell_type": "markdown",
   "metadata": {},
   "source": [
    "<div class=\"alert alert-warning\">#回答问题：相对路径和绝对路径的差别是什么？</div>\n",
    "\n",
    "你的答案："
   ]
  },
  {
   "cell_type": "markdown",
   "metadata": {},
   "source": [
    "<a id='step4'></a>\n",
    "\n",
    "# 第四步：实现定时弹窗\n",
    "你将结合上面实现的两步，一起来完成我们的最终任务。\n",
    "* 使用注释的方式写明每一个步骤\n",
    "* 定时5秒\n",
    "* 提醒喝水，直接输出即可\n",
    "* 定时10秒\n",
    "* 使用PicturesApp(folder,web).run()函数来执行你的窗口，并打开你喜欢的图片和网页"
   ]
  },
  {
   "cell_type": "code",
   "execution_count": null,
   "metadata": {},
   "outputs": [],
   "source": [
    "####################################################\n",
    "#\n",
    "# 调用PicturesApp函数并设定参数来调用你的窗口来调用你的窗口\n",
    "####################################################\n",
    "from PicturesApp import *\n"
   ]
  },
  {
   "cell_type": "code",
   "execution_count": null,
   "metadata": {},
   "outputs": [],
   "source": [
    "####################################\n",
    "#\n",
    "# 这是关闭小闹钟弹窗的程序 ：）\n",
    "####################################\n",
    "\n",
    "import os\n",
    "os._exit(00)"
   ]
  },
  {
   "cell_type": "markdown",
   "metadata": {},
   "source": [
    "<div class=\"alert alert-warning\"># 回答问题：</div>\n",
    "\n",
    "*1. 这个项目中哪些是 前端，哪些是 后端 ？\n",
    "答：\n",
    "\n",
    "\n",
    "*2. 如果我们需要间隔10秒打开一次浏览窗口，共重复3次，怎么做比较好？\n",
    "答：\n",
    "\n",
    "\n",
    "*3. 对控制流怎么看？\n",
    "答："
   ]
  },
  {
   "cell_type": "markdown",
   "metadata": {},
   "source": [
    "<a id='step5'></a>\n",
    "\n",
    "# 5. 材料提交 & 准备\n",
    "\n",
    "同学们需要自己进入Udacity在线教室进行提交，   \n",
    "\n",
    "[优达学城在线教室链接](https://classroom.udacity.com/nanodegrees/nd601-cn-basic/parts/7f589f70-27db-4a29-9cfa-cb1129e104d5/modules/31198821-ecdb-4469-a2f8-44d3e4ec0d98/lessons/db64f56f-469e-4cbe-a8d4-3a5b3f6a675f/concepts/0a595c7c-d4db-412a-a0c6-7256d271e402)\n",
    "\n",
    "<div class=\"alert alert-info\">\n",
    "1. 请把这个 ipynb 另存为 ‘File - Download as’ html文件；\n",
    "</div>\n",
    "\n",
    "<div class=\"alert alert-info\">\n",
    "2. 将 Tkinter-clock.ipynb 和 Tkinter-clock.html 一起打包后，在*你的教室*中“小闹钟”项目内提交；\n",
    "</div>\n",
    "\n",
    "* 祝你通关顺利！～\n",
    "\n"
   ]
  },
  {
   "cell_type": "markdown",
   "metadata": {},
   "source": [
    "<a id='step6'></a>\n",
    "# 6 作业内容与提交时间\n",
    "    6.1 作业内容：\n",
    "        * 本节的ipynb\n",
    "        * 本节的html\n",
    "\n",
    "    6.2 提交方式：\n",
    "        * 教室里的提交按钮\n",
    "\n",
    "    6.3 截止时间：\n",
    "        * 本课程结束前\n",
    "\n",
    "    6.4 获取成绩时间：\n",
    "        * 评阅一般会在1-3个工作日内回复；\n",
    "\n",
    "    6.5 获取成绩方式：\n",
    "        * 在教室中会得到评阅者的评阅，同时，你的邮箱也会得到通知；"
   ]
  },
  {
   "cell_type": "markdown",
   "metadata": {},
   "source": [
    "<a id='step7'></a>\n",
    "# 7 导师联系与答疑\n",
    "    有任何问题可以在群内联系导师解答\n",
    "\n",
    "    谢谢！"
   ]
  },
  {
   "cell_type": "markdown",
   "metadata": {},
   "source": [
    "![logo2.png](images/logo2.jpg)"
   ]
  }
 ],
 "metadata": {
  "kernelspec": {
   "display_name": "Python 3",
   "language": "python",
   "name": "python3"
  },
  "language_info": {
   "codemirror_mode": {
    "name": "ipython",
    "version": 3
   },
   "file_extension": ".py",
   "mimetype": "text/x-python",
   "name": "python",
   "nbconvert_exporter": "python",
   "pygments_lexer": "ipython3",
   "version": "3.6.7"
  }
 },
 "nbformat": 4,
 "nbformat_minor": 2
}
